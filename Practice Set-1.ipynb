{
 "cells": [
  {
   "cell_type": "markdown",
   "id": "edfb1a76",
   "metadata": {},
   "source": [
    "# Practice Set-1"
   ]
  },
  {
   "cell_type": "markdown",
   "id": "01992d7c",
   "metadata": {},
   "source": [
    "### Q1. Write a Python program that defines a function called \"add_numbers\" that takes two arguments (i.e., numbers) and returns their sum. Within the function, add the two numbers together and return the result using the return statement. Call the function with the values 5 and 6, and print out the returned result. This will result in the addition of 5 and 6, with the output of the program being the sum of these two numbers."
   ]
  },
  {
   "cell_type": "code",
   "execution_count": 1,
   "id": "fb3cf4ed",
   "metadata": {},
   "outputs": [],
   "source": [
    "def add_numbers(a,b):\n",
    "    c=a+b\n",
    "    return c"
   ]
  },
  {
   "cell_type": "code",
   "execution_count": 2,
   "id": "8767050e",
   "metadata": {},
   "outputs": [
    {
     "data": {
      "text/plain": [
       "11"
      ]
     },
     "execution_count": 2,
     "metadata": {},
     "output_type": "execute_result"
    }
   ],
   "source": [
    "add_numbers(5,6)"
   ]
  },
  {
   "cell_type": "markdown",
   "id": "11fe20ee",
   "metadata": {},
   "source": [
    "### Q2. Write a Python program that calculates the square root of a given number using a built-in function. Specifically, the program should take an integer or float input from the user, calculate its square root using the 'sqrt()' function from the 'math' module, and print out the result to the user. As an example, calculate the square root of the number 625 using this program, which should output the value of 25."
   ]
  },
  {
   "cell_type": "code",
   "execution_count": 3,
   "id": "e75b0590",
   "metadata": {},
   "outputs": [],
   "source": [
    "import math\n",
    "def sqrt(a):\n",
    "    return math.sqrt(a)"
   ]
  },
  {
   "cell_type": "code",
   "execution_count": 4,
   "id": "6424d4d3",
   "metadata": {},
   "outputs": [
    {
     "data": {
      "text/plain": [
       "25.0"
      ]
     },
     "execution_count": 4,
     "metadata": {},
     "output_type": "execute_result"
    }
   ],
   "source": [
    "sqrt(625)"
   ]
  },
  {
   "cell_type": "markdown",
   "id": "d2b0246c",
   "metadata": {},
   "source": [
    "### Q3.Write a program that prints all prime numbers between 0 to 50."
   ]
  },
  {
   "cell_type": "code",
   "execution_count": 23,
   "id": "9b10f7a3",
   "metadata": {},
   "outputs": [
    {
     "name": "stdout",
     "output_type": "stream",
     "text": [
      "Prime numbers between 0 and 50 : [2, 3, 5, 7, 11, 13, 17, 19, 23, 29, 31, 37, 41, 43, 47]\n"
     ]
    }
   ],
   "source": [
    "def is_prime(number):\n",
    "    if number < 2:\n",
    "        return False\n",
    "    for i in range(2, number):\n",
    "        if number % i == 0:\n",
    "            return False\n",
    "    return True\n",
    "\n",
    "def print_primes_in_range(start, end):\n",
    "    prime_numbers = [num for num in range(start, end + 1) if is_prime(num)]\n",
    "    print(\"Prime numbers between\", start, \"and\", end, \":\", prime_numbers)\n",
    "\n",
    "print_primes_in_range(0, 50)"
   ]
  },
  {
   "cell_type": "markdown",
   "id": "c676001b",
   "metadata": {},
   "source": [
    "### Q4.How can we swap the values of three variables (let's say a, b, and c) without using a fourth variable? For example, if we have a=5, b=8, and c=9, how can we obtain a=9, b=5, and c=8? The challenge is to perform this operation without using an additional variable to store any of the values during the swapping process."
   ]
  },
  {
   "cell_type": "code",
   "execution_count": 24,
   "id": "699eeb65",
   "metadata": {},
   "outputs": [],
   "source": [
    "a=5\n",
    "b=8\n",
    "c=9"
   ]
  },
  {
   "cell_type": "code",
   "execution_count": 25,
   "id": "91922cc9",
   "metadata": {},
   "outputs": [],
   "source": [
    "a,b,c=c,a,b"
   ]
  },
  {
   "cell_type": "code",
   "execution_count": 26,
   "id": "8a2ef630",
   "metadata": {},
   "outputs": [
    {
     "data": {
      "text/plain": [
       "9"
      ]
     },
     "execution_count": 26,
     "metadata": {},
     "output_type": "execute_result"
    }
   ],
   "source": [
    "a"
   ]
  },
  {
   "cell_type": "code",
   "execution_count": 27,
   "id": "f71fc61a",
   "metadata": {},
   "outputs": [
    {
     "data": {
      "text/plain": [
       "5"
      ]
     },
     "execution_count": 27,
     "metadata": {},
     "output_type": "execute_result"
    }
   ],
   "source": [
    "b"
   ]
  },
  {
   "cell_type": "code",
   "execution_count": 28,
   "id": "3e932f2b",
   "metadata": {},
   "outputs": [
    {
     "data": {
      "text/plain": [
       "8"
      ]
     },
     "execution_count": 28,
     "metadata": {},
     "output_type": "execute_result"
    }
   ],
   "source": [
    "c"
   ]
  },
  {
   "cell_type": "markdown",
   "id": "f37a9ca7",
   "metadata": {},
   "source": [
    "### Q5. Can you write a program that determines the nature of a given number (in this case, 87) as being positive, negative, or zero? The program should be designed to take the number as input and perform the necessary calculations to determine if the number is positive (i.e., greater than zero), negative (i.e., less than zero), or zero (i.e., equal to zero). The output of the program should indicate which of these three categories the given number falls into."
   ]
  },
  {
   "cell_type": "code",
   "execution_count": 35,
   "id": "27c8c7f0",
   "metadata": {},
   "outputs": [
    {
     "name": "stdout",
     "output_type": "stream",
     "text": [
      "Enter the number:10\n",
      "Number is Positive\n"
     ]
    }
   ],
   "source": [
    "num=int(input(\"Enter the number:\"))\n",
    "if num<0:\n",
    "    print(\"Number is Negative\")\n",
    "elif num>0:\n",
    "    print(\"Number is Positive\")\n",
    "else:\n",
    "    print(\"Number is Zero\")"
   ]
  },
  {
   "cell_type": "markdown",
   "id": "a1e50500",
   "metadata": {},
   "source": [
    "### Q6. How can you create a program that determines whether a given number (in this case, 98) is even or odd? The program should be designed to take the number as input and perform the necessary calculations to determine whether it is divisible by two. If the number is divisible by two without leaving a remainder, it is an even number, and if there is a remainder, it is an odd number. The output of the program should indicate whether the given number is even or odd."
   ]
  },
  {
   "cell_type": "code",
   "execution_count": 39,
   "id": "128cf1e8",
   "metadata": {},
   "outputs": [
    {
     "name": "stdout",
     "output_type": "stream",
     "text": [
      "Enter the number:10\n",
      "Number is Even\n"
     ]
    }
   ],
   "source": [
    "num1=int(input(\"Enter the number:\"))\n",
    "if num1%2==0:\n",
    "    print(\"Number is Even\")\n",
    "else:\n",
    "    print(\"Number is Odd\")"
   ]
  },
  {
   "cell_type": "markdown",
   "id": "847a657c",
   "metadata": {},
   "source": [
    "### Q7.Write a program for sum of digits.the digits are 76543 and the output should be  25"
   ]
  },
  {
   "cell_type": "code",
   "execution_count": 52,
   "id": "e17a89c0",
   "metadata": {},
   "outputs": [],
   "source": [
    "def sum_of_digit(n):\n",
    "    sum=0\n",
    "    for i in str(n):\n",
    "        sum=sum+int(i)\n",
    "    return sum"
   ]
  },
  {
   "cell_type": "code",
   "execution_count": 53,
   "id": "040e19ea",
   "metadata": {},
   "outputs": [
    {
     "data": {
      "text/plain": [
       "25"
      ]
     },
     "execution_count": 53,
     "metadata": {},
     "output_type": "execute_result"
    }
   ],
   "source": [
    "sum_of_digit(76543)"
   ]
  },
  {
   "cell_type": "markdown",
   "id": "d0cdde45",
   "metadata": {},
   "source": [
    "### Q8.Write a program for reversing the given number  5436 and the output  should be 6345."
   ]
  },
  {
   "cell_type": "code",
   "execution_count": 56,
   "id": "610c84ba",
   "metadata": {},
   "outputs": [],
   "source": [
    "def reverse(n):\n",
    "    num=str(n)\n",
    "    reverse_str=num[::-1]\n",
    "    return int(reverse_str)"
   ]
  },
  {
   "cell_type": "code",
   "execution_count": 57,
   "id": "34882c61",
   "metadata": {},
   "outputs": [
    {
     "data": {
      "text/plain": [
       "6345"
      ]
     },
     "execution_count": 57,
     "metadata": {},
     "output_type": "execute_result"
    }
   ],
   "source": [
    "reverse(5436)"
   ]
  },
  {
   "cell_type": "markdown",
   "id": "9d132ef4",
   "metadata": {},
   "source": [
    "### Q9.Write a program to check if a given number 371 is an Armstrong number?"
   ]
  },
  {
   "cell_type": "code",
   "execution_count": 27,
   "id": "4fcdef95",
   "metadata": {},
   "outputs": [
    {
     "name": "stdout",
     "output_type": "stream",
     "text": [
      "Enter the number:371\n",
      "371  is a armstrong number\n"
     ]
    }
   ],
   "source": [
    "num=int(input(\"Enter the number:\"))\n",
    "sum=0\n",
    "temp=num\n",
    "while temp>0:\n",
    "    digit = temp%10\n",
    "    cube = digit **3\n",
    "    sum =sum + cube\n",
    "    temp //=10\n",
    "if sum == num:\n",
    "    print(num,\" is a armstrong number\")\n",
    "else:\n",
    "    print(num,\" is not a armstrong number\")\n"
   ]
  },
  {
   "cell_type": "markdown",
   "id": "0aed5aa6",
   "metadata": {},
   "source": [
    "### Q10.Write a program the given year is 1996, a leap year."
   ]
  },
  {
   "cell_type": "code",
   "execution_count": 12,
   "id": "1e25db55",
   "metadata": {},
   "outputs": [
    {
     "name": "stdout",
     "output_type": "stream",
     "text": [
      "Enter the year:1996\n",
      "1996  is a leap year\n"
     ]
    }
   ],
   "source": [
    "year=int(input(\"Enter the year:\"))\n",
    "if year % 400==0 and year % 100==0:\n",
    "    print(year,\" is a leap year\")\n",
    "elif year % 4==0 and year % 100 != 0:\n",
    "    print(year,\" is a leap year\")\n",
    "else:\n",
    "    print(year,\" is not a leap year\")"
   ]
  },
  {
   "cell_type": "code",
   "execution_count": 13,
   "id": "ccb136ae",
   "metadata": {},
   "outputs": [
    {
     "name": "stdout",
     "output_type": "stream",
     "text": [
      "Enter the year:1996\n",
      "1996  is a leap year\n"
     ]
    }
   ],
   "source": [
    "year=int(input(\"Enter the year:\"))\n",
    "if year % 4 ==0:\n",
    "    print(year,\" is a leap year\")\n",
    "else:\n",
    "    print(year,\" is not a leap year\")"
   ]
  },
  {
   "cell_type": "code",
   "execution_count": null,
   "id": "2e56be24",
   "metadata": {},
   "outputs": [],
   "source": []
  }
 ],
 "metadata": {
  "kernelspec": {
   "display_name": "Python 3 (ipykernel)",
   "language": "python",
   "name": "python3"
  },
  "language_info": {
   "codemirror_mode": {
    "name": "ipython",
    "version": 3
   },
   "file_extension": ".py",
   "mimetype": "text/x-python",
   "name": "python",
   "nbconvert_exporter": "python",
   "pygments_lexer": "ipython3",
   "version": "3.9.13"
  }
 },
 "nbformat": 4,
 "nbformat_minor": 5
}
